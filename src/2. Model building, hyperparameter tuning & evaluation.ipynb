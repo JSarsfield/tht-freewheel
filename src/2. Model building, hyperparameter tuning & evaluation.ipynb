{
 "cells": [
  {
   "cell_type": "code",
   "execution_count": null,
   "metadata": {},
   "outputs": [],
   "source": [
    "# Xgboost implementation of Extreme Gradient Boosted trees model tuned with Tree Parzen Estimator algorithm\n",
    "# This approach can be used against other models such as tensorflow nets built with keras"
   ]
  },
  {
   "cell_type": "code",
   "execution_count": 2,
   "metadata": {},
   "outputs": [],
   "source": [
    "import numpy as np\n",
    "import pandas as pd\n",
    "import xgboost as xgb\n",
    "import mlflow\n",
    "from mlflow.models.signature import infer_signature\n",
    "from sklearn.model_selection import train_test_split\n",
    "from sklearn.metrics import log_loss\n",
    "from hyperopt import fmin, tpe, hp, STATUS_OK\n",
    "from hyperopt.pyll import scope\n",
    "from functools import partial"
   ]
  },
  {
   "cell_type": "code",
   "execution_count": 3,
   "metadata": {},
   "outputs": [],
   "source": [
    "\"\"\"hyperparameter search spaces\"\"\"\n",
    "params = {\n",
    "  'max_depth': scope.int(hp.quniform('max_depth', 4, 27, 1)),\n",
    "  'learning_rate': hp.loguniform('learning_rate', -3, 0),\n",
    "  'reg_alpha': hp.loguniform('reg_alpha', -5, -1),\n",
    "  'reg_lambda': hp.loguniform('reg_lambda', -6, -1),\n",
    "  'min_split_loss': hp.loguniform('min_split_loss', -6, 0),\n",
    "  'min_child_weight': hp.loguniform('min_child_weight', -1, 3),\n",
    "  'objective': 'binary:logistic',\n",
    "    'colsample_bytree': hp.quniform('colsample_bytree', 0.5, 1, 0.05),\n",
    "    'colsample_bylevel': hp.quniform('colsample_bylevel', 0.5, 1, 0.05),\n",
    "    'colsample_bynode': hp.quniform('colsample_bynode', 0.5, 1, 0.05),\n",
    "    'subsample': hp.quniform('subsample', 0.4, 1, 0.05),\n",
    "    'grow_policy': hp.choice('grow_policy', ['depthwise', 'lossguide']),\n",
    "    'tree_method': 'hist',\n",
    "  'seed': 123\n",
    "}"
   ]
  },
  {
   "cell_type": "code",
   "execution_count": 4,
   "metadata": {},
   "outputs": [],
   "source": [
    "\"\"\"Load training data using pandas - for purposes of dev this uses subset of training data\"\"\"\n",
    "\"\"\"The data loaded would contain engineered features where nan values were handled\"\"\"\n",
    "def load_data():\n",
    "    data = pd.read_csv(\"datasets/avazu-ctr-prediction/train.csv\", nrows=100000)\n",
    "    y_labels = data[\"click\"]\n",
    "    x_data = data.drop([\"id\", \"click\"], axis=1)\n",
    "    x_data = x_data.apply(lambda x: x.astype(\"category\").cat.codes if x.name in [\"site_id\", \n",
    "                                                                                 \"site_domain\",\n",
    "                                                                                \"site_category\",\n",
    "                                                                                \"app_id\",\n",
    "                                                                                \"app_domain\",\n",
    "                                                                                \"app_category\",\n",
    "                                                                                \"device_id\",\n",
    "                                                                                \"device_ip\",\n",
    "                                                                                \"device_model\"] else x)\n",
    "    x_train, x_val, y_train, y_val = train_test_split(x_data, y_labels, test_size=.3)  # split train/val 70/30\n",
    "    return x_train, x_val, y_train, y_val\n",
    "    \n",
    "def xgb_matrices(x_train, x_val, y_train, y_val):\n",
    "    train = xgb.DMatrix(data=x_train, label=y_train)\n",
    "    val = xgb.DMatrix(data=x_val, label=y_val)\n",
    "    return train, val"
   ]
  },
  {
   "cell_type": "code",
   "execution_count": 5,
   "metadata": {},
   "outputs": [],
   "source": [
    "\"\"\"Train xgboost model - hyperopt passes different param confiurations to this function and mlflow logs results\"\"\"\n",
    "def train_model(params, data):\n",
    "    train, val = data\n",
    "    mlflow.xgboost.autolog()\n",
    "    with mlflow.start_run(nested=True, experiment_id=1):\n",
    "        mod = xgb.train(params=params, dtrain=train, num_boost_round=1000,\n",
    "                        early_stopping_rounds=40,\n",
    "                        verbose_eval=True, evals=[(val, 'val')])\n",
    "        mlflow.xgboost.log_model(mod, \"model\")\n",
    "        return {'status': STATUS_OK, 'loss': mod.best_score, 'booster': mod.attributes()}"
   ]
  },
  {
   "cell_type": "code",
   "execution_count": 6,
   "metadata": {},
   "outputs": [
    {
     "ename": "ConnectionError",
     "evalue": "HTTPConnectionPool(host='localhost', port=5000): Max retries exceeded with url: /api/2.0/mlflow/runs/create (Caused by NewConnectionError('<urllib3.connection.HTTPConnection object at 0x7f44147826a0>: Failed to establish a new connection: [Errno 111] Connection refused',))",
     "output_type": "error",
     "traceback": [
      "\u001b[0;31m---------------------------------------------------------------------------\u001b[0m\n\u001b[0;31mConnectionError\u001b[0m                           Traceback (most recent call last)",
      "In  \u001b[0;34m[6]\u001b[0m:\nLine \u001b[0;34m5\u001b[0m:     \u001b[34mwith\u001b[39;49;00m mlflow.start_run(run_name=\u001b[33m'\u001b[39;49;00m\u001b[33mxgboost_models\u001b[39;49;00m\u001b[33m'\u001b[39;49;00m, experiment_id=\u001b[34m1\u001b[39;49;00m):\n",
      "File \u001b[0;34m/usr/local/lib/python3.6/dist-packages/mlflow/tracking/fluent.py\u001b[0m, in \u001b[0;32mstart_run\u001b[0m:\nLine \u001b[0;34m243\u001b[0m:   active_run_obj = MlflowClient().create_run(experiment_id=exp_id_for_run, tags=tags)\n",
      "File \u001b[0;34m/usr/local/lib/python3.6/dist-packages/mlflow/tracking/client.py\u001b[0m, in \u001b[0;32mcreate_run\u001b[0m:\nLine \u001b[0;34m266\u001b[0m:   \u001b[34mreturn\u001b[39;49;00m \u001b[36mself\u001b[39;49;00m._tracking_client.create_run(experiment_id, start_time, tags)\n",
      "File \u001b[0;34m/usr/local/lib/python3.6/dist-packages/mlflow/tracking/_tracking_service/client.py\u001b[0m, in \u001b[0;32mcreate_run\u001b[0m:\nLine \u001b[0;34m93\u001b[0m:    tags=[RunTag(key, value) \u001b[34mfor\u001b[39;49;00m (key, value) \u001b[35min\u001b[39;49;00m tags.items()],\n",
      "File \u001b[0;34m/usr/local/lib/python3.6/dist-packages/mlflow/store/tracking/rest_store.py\u001b[0m, in \u001b[0;32mcreate_run\u001b[0m:\nLine \u001b[0;34m148\u001b[0m:   response_proto = \u001b[36mself\u001b[39;49;00m._call_endpoint(CreateRun, req_body)\n",
      "File \u001b[0;34m/usr/local/lib/python3.6/dist-packages/mlflow/store/tracking/rest_store.py\u001b[0m, in \u001b[0;32m_call_endpoint\u001b[0m:\nLine \u001b[0;34m55\u001b[0m:    \u001b[34mreturn\u001b[39;49;00m call_endpoint(\u001b[36mself\u001b[39;49;00m.get_host_creds(), endpoint, method, json_body, response_proto)\n",
      "File \u001b[0;34m/usr/local/lib/python3.6/dist-packages/mlflow/utils/rest_utils.py\u001b[0m, in \u001b[0;32mcall_endpoint\u001b[0m:\nLine \u001b[0;34m168\u001b[0m:   host_creds=host_creds, endpoint=endpoint, method=method, json=json_body\n",
      "File \u001b[0;34m/usr/local/lib/python3.6/dist-packages/mlflow/utils/rest_utils.py\u001b[0m, in \u001b[0;32mhttp_request\u001b[0m:\nLine \u001b[0;34m83\u001b[0m:    max_rate_limit_interval, url=url, headers=headers, verify=verify, **kwargs\n",
      "File \u001b[0;34m/usr/local/lib/python3.6/dist-packages/mlflow/utils/rest_utils.py\u001b[0m, in \u001b[0;32mrequest_with_ratelimit_retries\u001b[0m:\nLine \u001b[0;34m62\u001b[0m:    response = requests.request(**kwargs)\n",
      "File \u001b[0;34m/usr/local/lib/python3.6/dist-packages/requests/api.py\u001b[0m, in \u001b[0;32mrequest\u001b[0m:\nLine \u001b[0;34m61\u001b[0m:    \u001b[34mreturn\u001b[39;49;00m session.request(method=method, url=url, **kwargs)\n",
      "File \u001b[0;34m/usr/local/lib/python3.6/dist-packages/requests/sessions.py\u001b[0m, in \u001b[0;32mrequest\u001b[0m:\nLine \u001b[0;34m542\u001b[0m:   resp = \u001b[36mself\u001b[39;49;00m.send(prep, **send_kwargs)\n",
      "File \u001b[0;34m/usr/local/lib/python3.6/dist-packages/requests/sessions.py\u001b[0m, in \u001b[0;32msend\u001b[0m:\nLine \u001b[0;34m655\u001b[0m:   r = adapter.send(request, **kwargs)\n",
      "File \u001b[0;34m/usr/local/lib/python3.6/dist-packages/requests/adapters.py\u001b[0m, in \u001b[0;32msend\u001b[0m:\nLine \u001b[0;34m516\u001b[0m:   \u001b[34mraise\u001b[39;49;00m \u001b[36mConnectionError\u001b[39;49;00m(e, request=request)\n",
      "\u001b[0;31mConnectionError\u001b[0m: HTTPConnectionPool(host='localhost', port=5000): Max retries exceeded with url: /api/2.0/mlflow/runs/create (Caused by NewConnectionError('<urllib3.connection.HTTPConnection object at 0x7f44147826a0>: Failed to establish a new connection: [Errno 111] Connection refused',))\n\u001b[0;31m---------------------------------------------------------------------------\u001b[0m"
     ]
    }
   ],
   "source": [
    "\"\"\"Start mlflow experiment and save logloss & AUC performance metrics to tracking server\"\"\"\n",
    "x_train, x_val, y_train, y_val = load_data()\n",
    "train, val = xgb_matrices(x_train, x_val, y_train, y_val)\n",
    "fmin_train_model = partial(train_model, data=[train, val])\n",
    "with mlflow.start_run(run_name='xgboost_models', experiment_id=1):\n",
    "    best_params = fmin(\n",
    "        fn=fmin_train_model,\n",
    "        space=params,\n",
    "        algo=tpe.suggest,\n",
    "        max_evals=96,\n",
    "        rstate=np.random.RandomState(123)\n",
    "    )\n",
    "      "
   ]
  },
  {
   "cell_type": "code",
   "execution_count": null,
   "metadata": {},
   "outputs": [],
   "source": [
    "\"\"\"TODO take winning model and log performance metrics against test dataset\"\"\""
   ]
  },
  {
   "cell_type": "code",
   "execution_count": null,
   "metadata": {},
   "outputs": [],
   "source": [
    "\"\"\"Results of trained models can be seen on the mlflow tracking server 127.0.0.1:5000\"\"\""
   ]
  }
 ],
 "metadata": {
  "kernelspec": {
   "display_name": "Python 3.6 (XPython)",
   "language": "python",
   "name": "xpython"
  },
  "language_info": {
   "file_extension": ".py",
   "mimetype": "text/x-python",
   "name": "python",
   "version": "3.6.12"
  }
 },
 "nbformat": 4,
 "nbformat_minor": 4
}
