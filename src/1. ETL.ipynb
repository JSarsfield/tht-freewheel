{
 "cells": [
  {
   "cell_type": "code",
   "execution_count": 1,
   "metadata": {},
   "outputs": [],
   "source": [
    "import pyspark\n",
    "from pyspark.sql import SparkSession"
   ]
  },
  {
   "cell_type": "code",
   "execution_count": 12,
   "metadata": {},
   "outputs": [],
   "source": [
    "\"\"\"Start local spark cluster using all logical cores\"\"\"\n",
    "spark = SparkSession.builder.master(\"local[*]\") \\\n",
    "                    .appName('testapp') \\\n",
    "                    .getOrCreate()\n",
    "spark.conf.set(\"spark.sql.repl.eagerEval.enabled\", True) # Switched to eager mode for debugging"
   ]
  },
  {
   "cell_type": "code",
   "execution_count": 32,
   "metadata": {},
   "outputs": [],
   "source": [
    "\"\"\"Load training data\"\"\"\n",
    "train_data = spark.read.format(\"csv\").load(\"./datasets/avazu-ctr-prediction/train.csv\", \n",
    "                                           header=\"true\", \n",
    "                                           inferSchema=\"true\")"
   ]
  },
  {
   "cell_type": "code",
   "execution_count": 33,
   "metadata": {},
   "outputs": [
    {
     "data": {
      "text/html": [
       "<table border='1'>\n",
       "<tr><th>id</th><th>click</th><th>hour</th><th>C1</th><th>banner_pos</th><th>site_id</th><th>site_domain</th><th>site_category</th><th>app_id</th><th>app_domain</th><th>app_category</th><th>device_id</th><th>device_ip</th><th>device_model</th><th>device_type</th><th>device_conn_type</th><th>C14</th><th>C15</th><th>C16</th><th>C17</th><th>C18</th><th>C19</th><th>C20</th><th>C21</th></tr>\n",
       "<tr><td>1000009418151094273</td><td>0</td><td>14102100</td><td>1005</td><td>0</td><td>1fbe01fe</td><td>f3845767</td><td>28905ebd</td><td>ecad2386</td><td>7801e8d9</td><td>07d7df22</td><td>a99f214a</td><td>ddd2926e</td><td>44956a24</td><td>1</td><td>2</td><td>15706</td><td>320</td><td>50</td><td>1722</td><td>0</td><td>35</td><td>-1</td><td>79</td></tr>\n",
       "<tr><td>10000169349117863715</td><td>0</td><td>14102100</td><td>1005</td><td>0</td><td>1fbe01fe</td><td>f3845767</td><td>28905ebd</td><td>ecad2386</td><td>7801e8d9</td><td>07d7df22</td><td>a99f214a</td><td>96809ac8</td><td>711ee120</td><td>1</td><td>0</td><td>15704</td><td>320</td><td>50</td><td>1722</td><td>0</td><td>35</td><td>100084</td><td>79</td></tr>\n",
       "<tr><td>10000371904215119486</td><td>0</td><td>14102100</td><td>1005</td><td>0</td><td>1fbe01fe</td><td>f3845767</td><td>28905ebd</td><td>ecad2386</td><td>7801e8d9</td><td>07d7df22</td><td>a99f214a</td><td>b3cf8def</td><td>8a4875bd</td><td>1</td><td>0</td><td>15704</td><td>320</td><td>50</td><td>1722</td><td>0</td><td>35</td><td>100084</td><td>79</td></tr>\n",
       "<tr><td>10000640724480838376</td><td>0</td><td>14102100</td><td>1005</td><td>0</td><td>1fbe01fe</td><td>f3845767</td><td>28905ebd</td><td>ecad2386</td><td>7801e8d9</td><td>07d7df22</td><td>a99f214a</td><td>e8275b8f</td><td>6332421a</td><td>1</td><td>0</td><td>15706</td><td>320</td><td>50</td><td>1722</td><td>0</td><td>35</td><td>100084</td><td>79</td></tr>\n",
       "<tr><td>10000679056417042096</td><td>0</td><td>14102100</td><td>1005</td><td>1</td><td>fe8cc448</td><td>9166c161</td><td>0569f928</td><td>ecad2386</td><td>7801e8d9</td><td>07d7df22</td><td>a99f214a</td><td>9644d0bf</td><td>779d90c2</td><td>1</td><td>0</td><td>18993</td><td>320</td><td>50</td><td>2161</td><td>0</td><td>35</td><td>-1</td><td>157</td></tr>\n",
       "<tr><td>10000720757801103869</td><td>0</td><td>14102100</td><td>1005</td><td>0</td><td>d6137915</td><td>bb1ef334</td><td>f028772b</td><td>ecad2386</td><td>7801e8d9</td><td>07d7df22</td><td>a99f214a</td><td>05241af0</td><td>8a4875bd</td><td>1</td><td>0</td><td>16920</td><td>320</td><td>50</td><td>1899</td><td>0</td><td>431</td><td>100077</td><td>117</td></tr>\n",
       "<tr><td>10000724729988544911</td><td>0</td><td>14102100</td><td>1005</td><td>0</td><td>8fda644b</td><td>25d4cfcd</td><td>f028772b</td><td>ecad2386</td><td>7801e8d9</td><td>07d7df22</td><td>a99f214a</td><td>b264c159</td><td>be6db1d7</td><td>1</td><td>0</td><td>20362</td><td>320</td><td>50</td><td>2333</td><td>0</td><td>39</td><td>-1</td><td>157</td></tr>\n",
       "<tr><td>10000918755742328737</td><td>0</td><td>14102100</td><td>1005</td><td>1</td><td>e151e245</td><td>7e091613</td><td>f028772b</td><td>ecad2386</td><td>7801e8d9</td><td>07d7df22</td><td>a99f214a</td><td>e6f67278</td><td>be74e6fe</td><td>1</td><td>0</td><td>20632</td><td>320</td><td>50</td><td>2374</td><td>3</td><td>39</td><td>-1</td><td>23</td></tr>\n",
       "<tr><td>10000949271186029916</td><td>1</td><td>14102100</td><td>1005</td><td>0</td><td>1fbe01fe</td><td>f3845767</td><td>28905ebd</td><td>ecad2386</td><td>7801e8d9</td><td>07d7df22</td><td>a99f214a</td><td>37e8da74</td><td>5db079b5</td><td>1</td><td>2</td><td>15707</td><td>320</td><td>50</td><td>1722</td><td>0</td><td>35</td><td>-1</td><td>79</td></tr>\n",
       "<tr><td>10001264480619467364</td><td>0</td><td>14102100</td><td>1002</td><td>0</td><td>84c7ba46</td><td>c4e18dd6</td><td>50e219e0</td><td>ecad2386</td><td>7801e8d9</td><td>07d7df22</td><td>c357dbff</td><td>f1ac7184</td><td>373ecbe6</td><td>0</td><td>0</td><td>21689</td><td>320</td><td>50</td><td>2496</td><td>3</td><td>167</td><td>100191</td><td>23</td></tr>\n",
       "<tr><td>10001868339616595934</td><td>0</td><td>14102100</td><td>1005</td><td>1</td><td>e151e245</td><td>7e091613</td><td>f028772b</td><td>ecad2386</td><td>7801e8d9</td><td>07d7df22</td><td>a99f214a</td><td>5d877109</td><td>8f5c9827</td><td>1</td><td>0</td><td>17747</td><td>320</td><td>50</td><td>1974</td><td>2</td><td>39</td><td>100019</td><td>33</td></tr>\n",
       "<tr><td>10001966791793526909</td><td>0</td><td>14102100</td><td>1005</td><td>0</td><td>1fbe01fe</td><td>f3845767</td><td>28905ebd</td><td>ecad2386</td><td>7801e8d9</td><td>07d7df22</td><td>a99f214a</td><td>6f407810</td><td>1f0bc64f</td><td>1</td><td>0</td><td>15701</td><td>320</td><td>50</td><td>1722</td><td>0</td><td>35</td><td>-1</td><td>79</td></tr>\n",
       "<tr><td>10002028568167339219</td><td>0</td><td>14102100</td><td>1005</td><td>0</td><td>9e8cf15d</td><td>0d3cb7be</td><td>f028772b</td><td>ecad2386</td><td>7801e8d9</td><td>07d7df22</td><td>a99f214a</td><td>58811cdf</td><td>8326c04b</td><td>1</td><td>2</td><td>20596</td><td>320</td><td>50</td><td>2161</td><td>0</td><td>35</td><td>100148</td><td>157</td></tr>\n",
       "<tr><td>10002044883120869786</td><td>0</td><td>14102100</td><td>1005</td><td>0</td><td>d6137915</td><td>bb1ef334</td><td>f028772b</td><td>ecad2386</td><td>7801e8d9</td><td>07d7df22</td><td>a99f214a</td><td>72aab6df</td><td>04258293</td><td>1</td><td>0</td><td>19771</td><td>320</td><td>50</td><td>2227</td><td>0</td><td>687</td><td>100077</td><td>48</td></tr>\n",
       "<tr><td>10002518649031436658</td><td>0</td><td>14102100</td><td>1005</td><td>0</td><td>85f751fd</td><td>c4e18dd6</td><td>50e219e0</td><td>98fed791</td><td>d9b5648e</td><td>0f2161f8</td><td>a99f214a</td><td>6dec2796</td><td>aad45b01</td><td>1</td><td>0</td><td>20984</td><td>320</td><td>50</td><td>2371</td><td>0</td><td>551</td><td>-1</td><td>46</td></tr>\n",
       "<tr><td>10003539039235338011</td><td>0</td><td>14102100</td><td>1005</td><td>0</td><td>1fbe01fe</td><td>f3845767</td><td>28905ebd</td><td>ecad2386</td><td>7801e8d9</td><td>07d7df22</td><td>a99f214a</td><td>a4f47b2e</td><td>8a4875bd</td><td>1</td><td>0</td><td>15699</td><td>320</td><td>50</td><td>1722</td><td>0</td><td>35</td><td>100084</td><td>79</td></tr>\n",
       "<tr><td>10003585669470236873</td><td>0</td><td>14102100</td><td>1005</td><td>0</td><td>d9750ee7</td><td>98572c79</td><td>f028772b</td><td>ecad2386</td><td>7801e8d9</td><td>07d7df22</td><td>a99f214a</td><td>9b1fe278</td><td>128f4ba1</td><td>1</td><td>0</td><td>17914</td><td>320</td><td>50</td><td>2043</td><td>2</td><td>39</td><td>-1</td><td>32</td></tr>\n",
       "<tr><td>10004105575081229495</td><td>0</td><td>14102100</td><td>1005</td><td>0</td><td>1fbe01fe</td><td>f3845767</td><td>28905ebd</td><td>ecad2386</td><td>7801e8d9</td><td>07d7df22</td><td>a99f214a</td><td>c26c53cf</td><td>be87996b</td><td>1</td><td>2</td><td>15708</td><td>320</td><td>50</td><td>1722</td><td>0</td><td>35</td><td>100084</td><td>79</td></tr>\n",
       "<tr><td>10004181428767727519</td><td>0</td><td>14102100</td><td>1005</td><td>1</td><td>0c2fe9d6</td><td>27e3c518</td><td>28905ebd</td><td>ecad2386</td><td>7801e8d9</td><td>07d7df22</td><td>a99f214a</td><td>b7a69808</td><td>158e4944</td><td>1</td><td>0</td><td>6558</td><td>320</td><td>50</td><td>571</td><td>2</td><td>39</td><td>-1</td><td>32</td></tr>\n",
       "<tr><td>10004482643316086592</td><td>0</td><td>14102100</td><td>1005</td><td>0</td><td>85f751fd</td><td>c4e18dd6</td><td>50e219e0</td><td>66a5f0f3</td><td>d9b5648e</td><td>cef3e649</td><td>a99f214a</td><td>fa60af6b</td><td>b4b19c97</td><td>1</td><td>0</td><td>21234</td><td>320</td><td>50</td><td>2434</td><td>3</td><td>163</td><td>100088</td><td>61</td></tr>\n",
       "</table>\n",
       "only showing top 20 rows\n"
      ],
      "text/plain": [
       "+--------------------+-----+--------+----+----------+--------+-----------+-------------+--------+----------+------------+---------+---------+------------+-----------+----------------+-----+---+---+----+---+---+------+---+\n",
       "|                  id|click|    hour|  C1|banner_pos| site_id|site_domain|site_category|  app_id|app_domain|app_category|device_id|device_ip|device_model|device_type|device_conn_type|  C14|C15|C16| C17|C18|C19|   C20|C21|\n",
       "+--------------------+-----+--------+----+----------+--------+-----------+-------------+--------+----------+------------+---------+---------+------------+-----------+----------------+-----+---+---+----+---+---+------+---+\n",
       "| 1000009418151094273|    0|14102100|1005|         0|1fbe01fe|   f3845767|     28905ebd|ecad2386|  7801e8d9|    07d7df22| a99f214a| ddd2926e|    44956a24|          1|               2|15706|320| 50|1722|  0| 35|    -1| 79|\n",
       "|10000169349117863715|    0|14102100|1005|         0|1fbe01fe|   f3845767|     28905ebd|ecad2386|  7801e8d9|    07d7df22| a99f214a| 96809ac8|    711ee120|          1|               0|15704|320| 50|1722|  0| 35|100084| 79|\n",
       "|10000371904215119486|    0|14102100|1005|         0|1fbe01fe|   f3845767|     28905ebd|ecad2386|  7801e8d9|    07d7df22| a99f214a| b3cf8def|    8a4875bd|          1|               0|15704|320| 50|1722|  0| 35|100084| 79|\n",
       "|10000640724480838376|    0|14102100|1005|         0|1fbe01fe|   f3845767|     28905ebd|ecad2386|  7801e8d9|    07d7df22| a99f214a| e8275b8f|    6332421a|          1|               0|15706|320| 50|1722|  0| 35|100084| 79|\n",
       "|10000679056417042096|    0|14102100|1005|         1|fe8cc448|   9166c161|     0569f928|ecad2386|  7801e8d9|    07d7df22| a99f214a| 9644d0bf|    779d90c2|          1|               0|18993|320| 50|2161|  0| 35|    -1|157|\n",
       "|10000720757801103869|    0|14102100|1005|         0|d6137915|   bb1ef334|     f028772b|ecad2386|  7801e8d9|    07d7df22| a99f214a| 05241af0|    8a4875bd|          1|               0|16920|320| 50|1899|  0|431|100077|117|\n",
       "|10000724729988544911|    0|14102100|1005|         0|8fda644b|   25d4cfcd|     f028772b|ecad2386|  7801e8d9|    07d7df22| a99f214a| b264c159|    be6db1d7|          1|               0|20362|320| 50|2333|  0| 39|    -1|157|\n",
       "|10000918755742328737|    0|14102100|1005|         1|e151e245|   7e091613|     f028772b|ecad2386|  7801e8d9|    07d7df22| a99f214a| e6f67278|    be74e6fe|          1|               0|20632|320| 50|2374|  3| 39|    -1| 23|\n",
       "|10000949271186029916|    1|14102100|1005|         0|1fbe01fe|   f3845767|     28905ebd|ecad2386|  7801e8d9|    07d7df22| a99f214a| 37e8da74|    5db079b5|          1|               2|15707|320| 50|1722|  0| 35|    -1| 79|\n",
       "|10001264480619467364|    0|14102100|1002|         0|84c7ba46|   c4e18dd6|     50e219e0|ecad2386|  7801e8d9|    07d7df22| c357dbff| f1ac7184|    373ecbe6|          0|               0|21689|320| 50|2496|  3|167|100191| 23|\n",
       "|10001868339616595934|    0|14102100|1005|         1|e151e245|   7e091613|     f028772b|ecad2386|  7801e8d9|    07d7df22| a99f214a| 5d877109|    8f5c9827|          1|               0|17747|320| 50|1974|  2| 39|100019| 33|\n",
       "|10001966791793526909|    0|14102100|1005|         0|1fbe01fe|   f3845767|     28905ebd|ecad2386|  7801e8d9|    07d7df22| a99f214a| 6f407810|    1f0bc64f|          1|               0|15701|320| 50|1722|  0| 35|    -1| 79|\n",
       "|10002028568167339219|    0|14102100|1005|         0|9e8cf15d|   0d3cb7be|     f028772b|ecad2386|  7801e8d9|    07d7df22| a99f214a| 58811cdf|    8326c04b|          1|               2|20596|320| 50|2161|  0| 35|100148|157|\n",
       "|10002044883120869786|    0|14102100|1005|         0|d6137915|   bb1ef334|     f028772b|ecad2386|  7801e8d9|    07d7df22| a99f214a| 72aab6df|    04258293|          1|               0|19771|320| 50|2227|  0|687|100077| 48|\n",
       "|10002518649031436658|    0|14102100|1005|         0|85f751fd|   c4e18dd6|     50e219e0|98fed791|  d9b5648e|    0f2161f8| a99f214a| 6dec2796|    aad45b01|          1|               0|20984|320| 50|2371|  0|551|    -1| 46|\n",
       "|10003539039235338011|    0|14102100|1005|         0|1fbe01fe|   f3845767|     28905ebd|ecad2386|  7801e8d9|    07d7df22| a99f214a| a4f47b2e|    8a4875bd|          1|               0|15699|320| 50|1722|  0| 35|100084| 79|\n",
       "|10003585669470236873|    0|14102100|1005|         0|d9750ee7|   98572c79|     f028772b|ecad2386|  7801e8d9|    07d7df22| a99f214a| 9b1fe278|    128f4ba1|          1|               0|17914|320| 50|2043|  2| 39|    -1| 32|\n",
       "|10004105575081229495|    0|14102100|1005|         0|1fbe01fe|   f3845767|     28905ebd|ecad2386|  7801e8d9|    07d7df22| a99f214a| c26c53cf|    be87996b|          1|               2|15708|320| 50|1722|  0| 35|100084| 79|\n",
       "|10004181428767727519|    0|14102100|1005|         1|0c2fe9d6|   27e3c518|     28905ebd|ecad2386|  7801e8d9|    07d7df22| a99f214a| b7a69808|    158e4944|          1|               0| 6558|320| 50| 571|  2| 39|    -1| 32|\n",
       "|10004482643316086592|    0|14102100|1005|         0|85f751fd|   c4e18dd6|     50e219e0|66a5f0f3|  d9b5648e|    cef3e649| a99f214a| fa60af6b|    b4b19c97|          1|               0|21234|320| 50|2434|  3|163|100088| 61|\n",
       "+--------------------+-----+--------+----+----------+--------+-----------+-------------+--------+----------+------------+---------+---------+------------+-----------+----------------+-----+---+---+----+---+---+------+---+\n",
       "only showing top 20 rows"
      ]
     },
     "execution_count": 33,
     "metadata": {},
     "output_type": "execute_result"
    }
   ],
   "source": [
    "train_data"
   ]
  },
  {
   "cell_type": "code",
   "execution_count": 42,
   "metadata": {},
   "outputs": [
    {
     "name": "stdout",
     "output_type": "stream",
     "text": [
      "(40428967, 24)\n"
     ]
    }
   ],
   "source": [
    "print((train_data.count(), len(train_data.columns)))"
   ]
  },
  {
   "cell_type": "code",
   "execution_count": 46,
   "metadata": {},
   "outputs": [
    {
     "data": {
      "text/html": [
       "<table border='1'>\n",
       "<tr><th>id</th><th>click</th></tr>\n",
       "<tr><td>1000009418151094273</td><td>0</td></tr>\n",
       "<tr><td>10000169349117863715</td><td>0</td></tr>\n",
       "<tr><td>10000371904215119486</td><td>0</td></tr>\n",
       "<tr><td>10000640724480838376</td><td>0</td></tr>\n",
       "<tr><td>10000679056417042096</td><td>0</td></tr>\n",
       "<tr><td>10000720757801103869</td><td>0</td></tr>\n",
       "<tr><td>10000724729988544911</td><td>0</td></tr>\n",
       "<tr><td>10000918755742328737</td><td>0</td></tr>\n",
       "<tr><td>10000949271186029916</td><td>1</td></tr>\n",
       "<tr><td>10001264480619467364</td><td>0</td></tr>\n",
       "<tr><td>10001868339616595934</td><td>0</td></tr>\n",
       "<tr><td>10001966791793526909</td><td>0</td></tr>\n",
       "<tr><td>10002028568167339219</td><td>0</td></tr>\n",
       "<tr><td>10002044883120869786</td><td>0</td></tr>\n",
       "<tr><td>10002518649031436658</td><td>0</td></tr>\n",
       "<tr><td>10003539039235338011</td><td>0</td></tr>\n",
       "<tr><td>10003585669470236873</td><td>0</td></tr>\n",
       "<tr><td>10004105575081229495</td><td>0</td></tr>\n",
       "<tr><td>10004181428767727519</td><td>0</td></tr>\n",
       "<tr><td>10004482643316086592</td><td>0</td></tr>\n",
       "</table>\n",
       "only showing top 20 rows\n"
      ],
      "text/plain": [
       "+--------------------+-----+\n",
       "|                  id|click|\n",
       "+--------------------+-----+\n",
       "| 1000009418151094273|    0|\n",
       "|10000169349117863715|    0|\n",
       "|10000371904215119486|    0|\n",
       "|10000640724480838376|    0|\n",
       "|10000679056417042096|    0|\n",
       "|10000720757801103869|    0|\n",
       "|10000724729988544911|    0|\n",
       "|10000918755742328737|    0|\n",
       "|10000949271186029916|    1|\n",
       "|10001264480619467364|    0|\n",
       "|10001868339616595934|    0|\n",
       "|10001966791793526909|    0|\n",
       "|10002028568167339219|    0|\n",
       "|10002044883120869786|    0|\n",
       "|10002518649031436658|    0|\n",
       "|10003539039235338011|    0|\n",
       "|10003585669470236873|    0|\n",
       "|10004105575081229495|    0|\n",
       "|10004181428767727519|    0|\n",
       "|10004482643316086592|    0|\n",
       "+--------------------+-----+\n",
       "only showing top 20 rows"
      ]
     },
     "execution_count": 46,
     "metadata": {},
     "output_type": "execute_result"
    }
   ],
   "source": [
    "\"\"\"Extract click label into new dataframe\"\"\"\n",
    "train_target = train_data.select(\"id\", \"click\")\n",
    "train_target"
   ]
  }
 ],
 "metadata": {
  "kernelspec": {
   "display_name": "Python 3",
   "language": "python",
   "name": "python3"
  },
  "language_info": {
   "codemirror_mode": {
    "name": "ipython",
    "version": 3
   },
   "file_extension": ".py",
   "mimetype": "text/x-python",
   "name": "python",
   "nbconvert_exporter": "python",
   "pygments_lexer": "ipython3",
   "version": "3.6.9"
  }
 },
 "nbformat": 4,
 "nbformat_minor": 2
}
